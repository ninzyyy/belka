{
 "cells": [
  {
   "cell_type": "code",
   "execution_count": null,
   "metadata": {},
   "outputs": [],
   "source": [
    "import os, ast\n",
    "import pandas as pd\n",
    "import numpy as np\n",
    "from rdkit import Chem, DataStructs\n",
    "from rdkit.Chem import Descriptors, rdMolDescriptors, Lipinski, GraphDescriptors, AllChem, MACCSkeys"
   ]
  },
  {
   "cell_type": "code",
   "execution_count": null,
   "metadata": {},
   "outputs": [],
   "source": [
    "def extract_molecule_info(smiles, name):\n",
    "\n",
    "    mol = Chem.MolFromSmiles(smiles)\n",
    "    if not mol:\n",
    "        return pd.Series({})\n",
    "\n",
    "    info = {\n",
    "        f\"{name}_mol_wt\": Descriptors.MolWt(mol),\n",
    "        f\"{name}_logp\": Descriptors.MolLogP(mol),\n",
    "        f\"{name}_atoms\": mol.GetNumAtoms(),\n",
    "        f\"{name}_bonds\": mol.GetNumBonds(),\n",
    "        f\"{name}_rotbonds\": Lipinski.NumRotatableBonds(mol),\n",
    "        f\"{name}_hdonors\": Lipinski.NumHDonors(mol),\n",
    "        f\"{name}_hacceptors\": Lipinski.NumHAcceptors(mol),\n",
    "        f\"{name}_tpsa\": rdMolDescriptors.CalcTPSA(mol),\n",
    "        f\"{name}_aromrings\": rdMolDescriptors.CalcNumAromaticRings(mol),\n",
    "        f\"{name}_satrings\": rdMolDescriptors.CalcNumSaturatedRings(mol),\n",
    "        f\"{name}_alirings\": rdMolDescriptors.CalcNumAliphaticRings(mol),\n",
    "        f\"{name}_csp3\": rdMolDescriptors.CalcFractionCSP3(mol),\n",
    "        f\"{name}_hka\": rdMolDescriptors.CalcHallKierAlpha(mol),\n",
    "        f\"{name}_chi0n\": GraphDescriptors.Chi0n(mol),\n",
    "        f\"{name}_chi1n\": GraphDescriptors.Chi1n(mol),\n",
    "        f\"{name}_kappa1\": GraphDescriptors.Kappa1(mol),\n",
    "    }\n",
    "\n",
    "    return pd.Series(info)"
   ]
  },
  {
   "cell_type": "code",
   "execution_count": null,
   "metadata": {},
   "outputs": [],
   "source": [
    "def generate_ecfp(smiles,\n",
    "                  radius=2,\n",
    "                  nBits=1024,\n",
    "                  use_features=False,\n",
    "                  use_chirality=False):\n",
    "\n",
    "    molecule = Chem.MolFromSmiles(smiles)\n",
    "    if molecule is None:\n",
    "        return None\n",
    "\n",
    "    feature_list = AllChem.GetMorganFingerprintAsBitVect(molecule,\n",
    "                                                         radius=radius,\n",
    "                                                         nBits=nBits,\n",
    "                                                         useFeatures=use_features,\n",
    "                                                         useChirality=use_chirality)\n",
    "    return np.array(feature_list)"
   ]
  },
  {
   "cell_type": "code",
   "execution_count": null,
   "metadata": {},
   "outputs": [],
   "source": [
    "def smiles_to_maccs(smiles):\n",
    "\n",
    "    molecule = Chem.MolFromSmiles(smiles)\n",
    "    if molecule is None:\n",
    "        return None\n",
    "    else:\n",
    "        maccs_key = MACCSkeys.GenMACCSKeys(molecule)\n",
    "        return [int(bit) for bit in maccs_key.ToBitString()]"
   ]
  }
 ],
 "metadata": {
  "kernelspec": {
   "display_name": "venv",
   "language": "python",
   "name": "python3"
  },
  "language_info": {
   "codemirror_mode": {
    "name": "ipython",
    "version": 3
   },
   "file_extension": ".py",
   "mimetype": "text/x-python",
   "name": "python",
   "nbconvert_exporter": "python",
   "pygments_lexer": "ipython3",
   "version": "3.12.2"
  }
 },
 "nbformat": 4,
 "nbformat_minor": 2
}
