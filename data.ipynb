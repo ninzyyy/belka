{
 "cells": [
  {
   "cell_type": "code",
   "execution_count": 1,
   "metadata": {},
   "outputs": [],
   "source": [
    "import os\n",
    "import numpy as np\n",
    "import pandas as pd"
   ]
  },
  {
   "cell_type": "code",
   "execution_count": 2,
   "metadata": {},
   "outputs": [
    {
     "data": {
      "text/html": [
       "<div>\n",
       "<style scoped>\n",
       "    .dataframe tbody tr th:only-of-type {\n",
       "        vertical-align: middle;\n",
       "    }\n",
       "\n",
       "    .dataframe tbody tr th {\n",
       "        vertical-align: top;\n",
       "    }\n",
       "\n",
       "    .dataframe thead th {\n",
       "        text-align: right;\n",
       "    }\n",
       "</style>\n",
       "<table border=\"1\" class=\"dataframe\">\n",
       "  <thead>\n",
       "    <tr style=\"text-align: right;\">\n",
       "      <th></th>\n",
       "      <th>id</th>\n",
       "      <th>buildingblock1_smiles</th>\n",
       "      <th>buildingblock2_smiles</th>\n",
       "      <th>buildingblock3_smiles</th>\n",
       "      <th>molecule_smiles</th>\n",
       "      <th>protein_name</th>\n",
       "      <th>binds</th>\n",
       "    </tr>\n",
       "  </thead>\n",
       "  <tbody>\n",
       "    <tr>\n",
       "      <th>0</th>\n",
       "      <td>0</td>\n",
       "      <td>C#CC[C@@H](CC(=O)O)NC(=O)OCC1c2ccccc2-c2ccccc21</td>\n",
       "      <td>C#CCOc1ccc(CN)cc1.Cl</td>\n",
       "      <td>Br.Br.NCC1CCCN1c1cccnn1</td>\n",
       "      <td>C#CCOc1ccc(CNc2nc(NCC3CCCN3c3cccnn3)nc(N[C@@H]...</td>\n",
       "      <td>BRD4</td>\n",
       "      <td>0</td>\n",
       "    </tr>\n",
       "    <tr>\n",
       "      <th>1</th>\n",
       "      <td>1</td>\n",
       "      <td>C#CC[C@@H](CC(=O)O)NC(=O)OCC1c2ccccc2-c2ccccc21</td>\n",
       "      <td>C#CCOc1ccc(CN)cc1.Cl</td>\n",
       "      <td>Br.Br.NCC1CCCN1c1cccnn1</td>\n",
       "      <td>C#CCOc1ccc(CNc2nc(NCC3CCCN3c3cccnn3)nc(N[C@@H]...</td>\n",
       "      <td>HSA</td>\n",
       "      <td>0</td>\n",
       "    </tr>\n",
       "    <tr>\n",
       "      <th>2</th>\n",
       "      <td>2</td>\n",
       "      <td>C#CC[C@@H](CC(=O)O)NC(=O)OCC1c2ccccc2-c2ccccc21</td>\n",
       "      <td>C#CCOc1ccc(CN)cc1.Cl</td>\n",
       "      <td>Br.Br.NCC1CCCN1c1cccnn1</td>\n",
       "      <td>C#CCOc1ccc(CNc2nc(NCC3CCCN3c3cccnn3)nc(N[C@@H]...</td>\n",
       "      <td>sEH</td>\n",
       "      <td>0</td>\n",
       "    </tr>\n",
       "    <tr>\n",
       "      <th>3</th>\n",
       "      <td>3</td>\n",
       "      <td>C#CC[C@@H](CC(=O)O)NC(=O)OCC1c2ccccc2-c2ccccc21</td>\n",
       "      <td>C#CCOc1ccc(CN)cc1.Cl</td>\n",
       "      <td>Br.NCc1cccc(Br)n1</td>\n",
       "      <td>C#CCOc1ccc(CNc2nc(NCc3cccc(Br)n3)nc(N[C@@H](CC...</td>\n",
       "      <td>BRD4</td>\n",
       "      <td>0</td>\n",
       "    </tr>\n",
       "    <tr>\n",
       "      <th>4</th>\n",
       "      <td>4</td>\n",
       "      <td>C#CC[C@@H](CC(=O)O)NC(=O)OCC1c2ccccc2-c2ccccc21</td>\n",
       "      <td>C#CCOc1ccc(CN)cc1.Cl</td>\n",
       "      <td>Br.NCc1cccc(Br)n1</td>\n",
       "      <td>C#CCOc1ccc(CNc2nc(NCc3cccc(Br)n3)nc(N[C@@H](CC...</td>\n",
       "      <td>HSA</td>\n",
       "      <td>0</td>\n",
       "    </tr>\n",
       "  </tbody>\n",
       "</table>\n",
       "</div>"
      ],
      "text/plain": [
       "   id                            buildingblock1_smiles buildingblock2_smiles  \\\n",
       "0   0  C#CC[C@@H](CC(=O)O)NC(=O)OCC1c2ccccc2-c2ccccc21  C#CCOc1ccc(CN)cc1.Cl   \n",
       "1   1  C#CC[C@@H](CC(=O)O)NC(=O)OCC1c2ccccc2-c2ccccc21  C#CCOc1ccc(CN)cc1.Cl   \n",
       "2   2  C#CC[C@@H](CC(=O)O)NC(=O)OCC1c2ccccc2-c2ccccc21  C#CCOc1ccc(CN)cc1.Cl   \n",
       "3   3  C#CC[C@@H](CC(=O)O)NC(=O)OCC1c2ccccc2-c2ccccc21  C#CCOc1ccc(CN)cc1.Cl   \n",
       "4   4  C#CC[C@@H](CC(=O)O)NC(=O)OCC1c2ccccc2-c2ccccc21  C#CCOc1ccc(CN)cc1.Cl   \n",
       "\n",
       "     buildingblock3_smiles                                    molecule_smiles  \\\n",
       "0  Br.Br.NCC1CCCN1c1cccnn1  C#CCOc1ccc(CNc2nc(NCC3CCCN3c3cccnn3)nc(N[C@@H]...   \n",
       "1  Br.Br.NCC1CCCN1c1cccnn1  C#CCOc1ccc(CNc2nc(NCC3CCCN3c3cccnn3)nc(N[C@@H]...   \n",
       "2  Br.Br.NCC1CCCN1c1cccnn1  C#CCOc1ccc(CNc2nc(NCC3CCCN3c3cccnn3)nc(N[C@@H]...   \n",
       "3        Br.NCc1cccc(Br)n1  C#CCOc1ccc(CNc2nc(NCc3cccc(Br)n3)nc(N[C@@H](CC...   \n",
       "4        Br.NCc1cccc(Br)n1  C#CCOc1ccc(CNc2nc(NCc3cccc(Br)n3)nc(N[C@@H](CC...   \n",
       "\n",
       "  protein_name  binds  \n",
       "0         BRD4      0  \n",
       "1          HSA      0  \n",
       "2          sEH      0  \n",
       "3         BRD4      0  \n",
       "4          HSA      0  "
      ]
     },
     "execution_count": 2,
     "metadata": {},
     "output_type": "execute_result"
    }
   ],
   "source": [
    "train_df = pd.read_parquet('data/train.parquet')\n",
    "train_df.head()"
   ]
  },
  {
   "cell_type": "code",
   "execution_count": 8,
   "metadata": {},
   "outputs": [
    {
     "data": {
      "text/plain": [
       "(295246830, 7)"
      ]
     },
     "execution_count": 8,
     "metadata": {},
     "output_type": "execute_result"
    }
   ],
   "source": [
    "train_df.shape"
   ]
  },
  {
   "cell_type": "code",
   "execution_count": 9,
   "metadata": {},
   "outputs": [
    {
     "data": {
      "text/plain": [
       "Index(['id', 'buildingblock1_smiles', 'buildingblock2_smiles',\n",
       "       'buildingblock3_smiles', 'molecule_smiles', 'protein_name', 'binds'],\n",
       "      dtype='object')"
      ]
     },
     "execution_count": 9,
     "metadata": {},
     "output_type": "execute_result"
    }
   ],
   "source": [
    "train_df.columns"
   ]
  },
  {
   "cell_type": "code",
   "execution_count": 12,
   "metadata": {},
   "outputs": [
    {
     "data": {
      "text/plain": [
       "binds\n",
       "0    293656924\n",
       "1      1589906\n",
       "Name: count, dtype: int64"
      ]
     },
     "execution_count": 12,
     "metadata": {},
     "output_type": "execute_result"
    }
   ],
   "source": [
    "train_df.binds.value_counts()"
   ]
  },
  {
   "cell_type": "code",
   "execution_count": 13,
   "metadata": {},
   "outputs": [
    {
     "name": "stdout",
     "output_type": "stream",
     "text": [
      "New distribution of target classes:\n",
      "binds\n",
      "0    1589906\n",
      "1    1589906\n",
      "Name: count, dtype: int64\n"
     ]
    }
   ],
   "source": [
    "zero_df = train_df[train_df['binds'] == 0]\n",
    "one_df = train_df[train_df['binds'] == 1]\n",
    "\n",
    "sampled_zero = zero_df.sample(n=len(one_df))\n",
    "balanced_df = pd.concat([sampled_zero, one_df])\n",
    "balanced_df = balanced_df.sample(frac=1).reset_index(drop=True)\n",
    "\n",
    "print(\"New distribution of target classes:\")\n",
    "print(balanced_df['binds'].value_counts())"
   ]
  },
  {
   "cell_type": "code",
   "execution_count": 15,
   "metadata": {},
   "outputs": [
    {
     "data": {
      "text/html": [
       "<div>\n",
       "<style scoped>\n",
       "    .dataframe tbody tr th:only-of-type {\n",
       "        vertical-align: middle;\n",
       "    }\n",
       "\n",
       "    .dataframe tbody tr th {\n",
       "        vertical-align: top;\n",
       "    }\n",
       "\n",
       "    .dataframe thead th {\n",
       "        text-align: right;\n",
       "    }\n",
       "</style>\n",
       "<table border=\"1\" class=\"dataframe\">\n",
       "  <thead>\n",
       "    <tr style=\"text-align: right;\">\n",
       "      <th></th>\n",
       "      <th>id</th>\n",
       "      <th>buildingblock1_smiles</th>\n",
       "      <th>buildingblock2_smiles</th>\n",
       "      <th>buildingblock3_smiles</th>\n",
       "      <th>molecule_smiles</th>\n",
       "      <th>protein_name</th>\n",
       "      <th>binds</th>\n",
       "    </tr>\n",
       "  </thead>\n",
       "  <tbody>\n",
       "    <tr>\n",
       "      <th>0</th>\n",
       "      <td>45074911</td>\n",
       "      <td>C[C@@]1(C(=O)O)CCCN1C(=O)OCC1c2ccccc2-c2ccccc21</td>\n",
       "      <td>Cc1ccccc1-c1csc(N)n1</td>\n",
       "      <td>NCc1ccon1</td>\n",
       "      <td>Cc1ccccc1-c1csc(Nc2nc(NCc3ccon3)nc(N3CCC[C@@]3...</td>\n",
       "      <td>HSA</td>\n",
       "      <td>0</td>\n",
       "    </tr>\n",
       "    <tr>\n",
       "      <th>1</th>\n",
       "      <td>21655935</td>\n",
       "      <td>CCCCC(NC(=O)OCC1c2ccccc2-c2ccccc21)C(=O)O</td>\n",
       "      <td>Nc1ccc2c(c1)CNC2=O</td>\n",
       "      <td>Cl.Cl.NCc1nc2c(s1)CCC2</td>\n",
       "      <td>CCCCC(Nc1nc(NCc2nc3c(s2)CCC3)nc(Nc2ccc3c(c2)CN...</td>\n",
       "      <td>BRD4</td>\n",
       "      <td>1</td>\n",
       "    </tr>\n",
       "    <tr>\n",
       "      <th>2</th>\n",
       "      <td>82557269</td>\n",
       "      <td>O=C(NCC1CCC(C(=O)O)CC1)OCC1c2ccccc2-c2ccccc21</td>\n",
       "      <td>Nc1cc(Cl)c(F)c(Cl)c1</td>\n",
       "      <td>CC(F)(F)CN.Cl</td>\n",
       "      <td>CC(F)(F)CNc1nc(NCC2CCC(C(=O)N[Dy])CC2)nc(Nc2cc...</td>\n",
       "      <td>sEH</td>\n",
       "      <td>1</td>\n",
       "    </tr>\n",
       "    <tr>\n",
       "      <th>3</th>\n",
       "      <td>195673909</td>\n",
       "      <td>O=C(Nc1ccc(C(=O)O)nc1)OCC1c2ccccc2-c2ccccc21</td>\n",
       "      <td>Cl.NCc1cnc2n1CCOC2</td>\n",
       "      <td>Nc1ncnc2c1ncn2C1CCCCO1</td>\n",
       "      <td>O=C(N[Dy])c1ccc(Nc2nc(NCc3cnc4n3CCOC4)nc(Nc3nc...</td>\n",
       "      <td>HSA</td>\n",
       "      <td>1</td>\n",
       "    </tr>\n",
       "    <tr>\n",
       "      <th>4</th>\n",
       "      <td>228828477</td>\n",
       "      <td>O=C(Nc1ncc(Br)cc1C(=O)O)OCC1c2ccccc2-c2ccccc21</td>\n",
       "      <td>CC(C)(CN)C(=O)N1CCCC1</td>\n",
       "      <td>Cn1ccc(S(=O)(=O)NCCN)c1</td>\n",
       "      <td>Cn1ccc(S(=O)(=O)NCCNc2nc(NCC(C)(C)C(=O)N3CCCC3...</td>\n",
       "      <td>BRD4</td>\n",
       "      <td>1</td>\n",
       "    </tr>\n",
       "  </tbody>\n",
       "</table>\n",
       "</div>"
      ],
      "text/plain": [
       "          id                            buildingblock1_smiles  \\\n",
       "0   45074911  C[C@@]1(C(=O)O)CCCN1C(=O)OCC1c2ccccc2-c2ccccc21   \n",
       "1   21655935        CCCCC(NC(=O)OCC1c2ccccc2-c2ccccc21)C(=O)O   \n",
       "2   82557269    O=C(NCC1CCC(C(=O)O)CC1)OCC1c2ccccc2-c2ccccc21   \n",
       "3  195673909     O=C(Nc1ccc(C(=O)O)nc1)OCC1c2ccccc2-c2ccccc21   \n",
       "4  228828477   O=C(Nc1ncc(Br)cc1C(=O)O)OCC1c2ccccc2-c2ccccc21   \n",
       "\n",
       "   buildingblock2_smiles    buildingblock3_smiles  \\\n",
       "0   Cc1ccccc1-c1csc(N)n1                NCc1ccon1   \n",
       "1     Nc1ccc2c(c1)CNC2=O   Cl.Cl.NCc1nc2c(s1)CCC2   \n",
       "2   Nc1cc(Cl)c(F)c(Cl)c1            CC(F)(F)CN.Cl   \n",
       "3     Cl.NCc1cnc2n1CCOC2   Nc1ncnc2c1ncn2C1CCCCO1   \n",
       "4  CC(C)(CN)C(=O)N1CCCC1  Cn1ccc(S(=O)(=O)NCCN)c1   \n",
       "\n",
       "                                     molecule_smiles protein_name  binds  \n",
       "0  Cc1ccccc1-c1csc(Nc2nc(NCc3ccon3)nc(N3CCC[C@@]3...          HSA      0  \n",
       "1  CCCCC(Nc1nc(NCc2nc3c(s2)CCC3)nc(Nc2ccc3c(c2)CN...         BRD4      1  \n",
       "2  CC(F)(F)CNc1nc(NCC2CCC(C(=O)N[Dy])CC2)nc(Nc2cc...          sEH      1  \n",
       "3  O=C(N[Dy])c1ccc(Nc2nc(NCc3cnc4n3CCOC4)nc(Nc3nc...          HSA      1  \n",
       "4  Cn1ccc(S(=O)(=O)NCCNc2nc(NCC(C)(C)C(=O)N3CCCC3...         BRD4      1  "
      ]
     },
     "execution_count": 15,
     "metadata": {},
     "output_type": "execute_result"
    }
   ],
   "source": [
    "balanced_df.head()"
   ]
  },
  {
   "cell_type": "code",
   "execution_count": 17,
   "metadata": {},
   "outputs": [
    {
     "data": {
      "text/plain": [
       "(3179812, 7)"
      ]
     },
     "execution_count": 17,
     "metadata": {},
     "output_type": "execute_result"
    }
   ],
   "source": [
    "balanced_df.shape"
   ]
  }
 ],
 "metadata": {
  "kernelspec": {
   "display_name": "venv",
   "language": "python",
   "name": "python3"
  },
  "language_info": {
   "codemirror_mode": {
    "name": "ipython",
    "version": 3
   },
   "file_extension": ".py",
   "mimetype": "text/x-python",
   "name": "python",
   "nbconvert_exporter": "python",
   "pygments_lexer": "ipython3",
   "version": "3.12.2"
  }
 },
 "nbformat": 4,
 "nbformat_minor": 2
}
